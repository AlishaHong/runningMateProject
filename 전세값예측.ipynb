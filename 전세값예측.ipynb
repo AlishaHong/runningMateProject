{
 "cells": [
  {
   "cell_type": "code",
   "execution_count": 2,
   "metadata": {},
   "outputs": [],
   "source": [
    "import pandas as pd"
   ]
  },
  {
   "cell_type": "code",
   "execution_count": 3,
   "metadata": {},
   "outputs": [],
   "source": [
    "nowon_2022_1 = pd.read_csv('data_노원/노원구_단독다가구_2022.csv', encoding='utf-8')"
   ]
  },
  {
   "cell_type": "code",
   "execution_count": 4,
   "metadata": {},
   "outputs": [
    {
     "name": "stdout",
     "output_type": "stream",
     "text": [
      "        NO            시군구   번지   도로조건  계약면적(㎡) 전월세구분    계약년월  계약일 보증금(만원)  \\\n",
      "0        1  서울특별시 노원구 공릉동  5**   8m미만    21.23    월세  202212   31   3,000   \n",
      "1        2  서울특별시 노원구 공릉동  3**   8m미만    12.10    월세  202212   31     500   \n",
      "2        3  서울특별시 노원구 공릉동  3**   8m미만    16.52    월세  202212   31   1,000   \n",
      "3        4  서울특별시 노원구 공릉동  6**   8m미만    19.00    월세  202212   31     500   \n",
      "4        5  서울특별시 노원구 공릉동  5**  12m미만    29.10    월세  202212   31   1,000   \n",
      "...    ...            ...  ...    ...      ...   ...     ...  ...     ...   \n",
      "3332  3333  서울특별시 노원구 상계동  1**      -    60.00    전세  202201    3   8,000   \n",
      "3333  3334  서울특별시 노원구 상계동  4**      -    80.00    전세  202201    3  30,000   \n",
      "3334  3335  서울특별시 노원구 공릉동  4**   8m미만    16.00    월세  202201    2     500   \n",
      "3335  3336  서울특별시 노원구 공릉동  5**   8m미만    23.00    월세  202201    1     500   \n",
      "3336  3337  서울특별시 노원구 공릉동  2**   8m미만    20.00    월세  202201    1   1,000   \n",
      "\n",
      "      월세금(만원)    건축년도      도로명           계약기간 계약구분 갱신요구권 사용 종전계약 보증금(만원)  \\\n",
      "0          67  2016.0  동일로182길  202302~202502   신규        -          NaN   \n",
      "1          40  2017.0  동일로190길  202301~202401   신규        -          NaN   \n",
      "2          39  2017.0  동일로190길  202212~202401   신규        -          NaN   \n",
      "3          40  2014.0   공릉로22길  202302~202502   신규        -          NaN   \n",
      "4          40  1992.0  동일로178길  202212~202412   신규        -          NaN   \n",
      "...       ...     ...      ...            ...  ...      ...          ...   \n",
      "3332        0  1985.0      NaN              -    -        -          NaN   \n",
      "3333        0  1984.0      NaN              -    -        -          NaN   \n",
      "3334       40  2014.0  공릉로43가길  202202~202302   신규        -          NaN   \n",
      "3335       45  2017.0  동일로180길  202202~202402   신규        -          NaN   \n",
      "3336       45  2011.0   공릉로32길  202201~202301   신규        -          NaN   \n",
      "\n",
      "      종전계약 월세(만원)   주택유형  \n",
      "0             NaN  단독다가구  \n",
      "1             NaN  단독다가구  \n",
      "2             NaN  단독다가구  \n",
      "3             NaN  단독다가구  \n",
      "4             NaN  단독다가구  \n",
      "...           ...    ...  \n",
      "3332          NaN  단독다가구  \n",
      "3333          NaN  단독다가구  \n",
      "3334          NaN  단독다가구  \n",
      "3335          NaN  단독다가구  \n",
      "3336          NaN  단독다가구  \n",
      "\n",
      "[3337 rows x 18 columns]\n"
     ]
    }
   ],
   "source": [
    "df_nowon_2022_1 = pd.DataFrame(nowon_2022_1)\n",
    "print(df_nowon_2022_1)"
   ]
  },
  {
   "cell_type": "code",
   "execution_count": 5,
   "metadata": {},
   "outputs": [
    {
     "name": "stdout",
     "output_type": "stream",
     "text": [
      "<class 'pandas.core.frame.DataFrame'>\n",
      "RangeIndex: 3337 entries, 0 to 3336\n",
      "Data columns (total 18 columns):\n",
      " #   Column        Non-Null Count  Dtype  \n",
      "---  ------        --------------  -----  \n",
      " 0   NO            3337 non-null   int64  \n",
      " 1   시군구           3337 non-null   object \n",
      " 2   번지            3336 non-null   object \n",
      " 3   도로조건          3337 non-null   object \n",
      " 4   계약면적(㎡)       3337 non-null   float64\n",
      " 5   전월세구분         3337 non-null   object \n",
      " 6   계약년월          3337 non-null   int64  \n",
      " 7   계약일           3337 non-null   int64  \n",
      " 8   보증금(만원)       3337 non-null   object \n",
      " 9   월세금(만원)       3337 non-null   int64  \n",
      " 10  건축년도          3146 non-null   float64\n",
      " 11  도로명           2902 non-null   object \n",
      " 12  계약기간          3337 non-null   object \n",
      " 13  계약구분          3337 non-null   object \n",
      " 14  갱신요구권 사용      3337 non-null   object \n",
      " 15  종전계약 보증금(만원)  242 non-null    object \n",
      " 16  종전계약 월세(만원)   242 non-null    float64\n",
      " 17  주택유형          3337 non-null   object \n",
      "dtypes: float64(3), int64(4), object(11)\n",
      "memory usage: 469.4+ KB\n"
     ]
    }
   ],
   "source": [
    "df_nowon_2022_1.info()"
   ]
  },
  {
   "cell_type": "code",
   "execution_count": 6,
   "metadata": {},
   "outputs": [],
   "source": [
    "def convert_to_jeonse(row):\n",
    "    row['보증금(만원)'] = row['보증금(만원)'].replace(',', '')\n",
    "    row['보증금(만원)'] = pd.to_numeric(row['보증금(만원)'], errors='coerce')\n",
    "\n",
    "    if pd.notna(row['월세금(만원)']):  # 월세 값이 있는 경우\n",
    "        additional_deposit = (row['월세금(만원)'] // 5) * 1000  # 월세를 보증금으로 변환 (5만원당 보증금 1000)\n",
    "        row['보증금(만원)'] += additional_deposit  # 기존 보증금에 추가\n",
    "        row['월세금(만원)'] = 0  # 월세를 0으로 설정 (전세로 변환)\n",
    "        row['전월세구분'] = '전세'\n",
    "    return row\n"
   ]
  },
  {
   "cell_type": "code",
   "execution_count": 7,
   "metadata": {},
   "outputs": [
    {
     "name": "stdout",
     "output_type": "stream",
     "text": [
      "모든 월세 매물이 전세로 변환되었습니다.\n",
      "<class 'pandas.core.frame.DataFrame'>\n",
      "RangeIndex: 3337 entries, 0 to 3336\n",
      "Data columns (total 18 columns):\n",
      " #   Column        Non-Null Count  Dtype  \n",
      "---  ------        --------------  -----  \n",
      " 0   NO            3337 non-null   int64  \n",
      " 1   시군구           3337 non-null   object \n",
      " 2   번지            3336 non-null   object \n",
      " 3   도로조건          3337 non-null   object \n",
      " 4   계약면적(㎡)       3337 non-null   float64\n",
      " 5   전월세구분         3337 non-null   object \n",
      " 6   계약년월          3337 non-null   int64  \n",
      " 7   계약일           3337 non-null   int64  \n",
      " 8   보증금(만원)       3337 non-null   int64  \n",
      " 9   월세금(만원)       3337 non-null   int64  \n",
      " 10  건축년도          3146 non-null   float64\n",
      " 11  도로명           2902 non-null   object \n",
      " 12  계약기간          3337 non-null   object \n",
      " 13  계약구분          3337 non-null   object \n",
      " 14  갱신요구권 사용      3337 non-null   object \n",
      " 15  종전계약 보증금(만원)  242 non-null    object \n",
      " 16  종전계약 월세(만원)   242 non-null    float64\n",
      " 17  주택유형          3337 non-null   object \n",
      "dtypes: float64(3), int64(5), object(10)\n",
      "memory usage: 469.4+ KB\n",
      "None\n",
      "   NO            시군구   번지   도로조건  계약면적(㎡) 전월세구분    계약년월  계약일  보증금(만원)  \\\n",
      "0   1  서울특별시 노원구 공릉동  5**   8m미만    21.23    전세  202212   31    16000   \n",
      "1   2  서울특별시 노원구 공릉동  3**   8m미만    12.10    전세  202212   31     8500   \n",
      "2   3  서울특별시 노원구 공릉동  3**   8m미만    16.52    전세  202212   31     8000   \n",
      "3   4  서울특별시 노원구 공릉동  6**   8m미만    19.00    전세  202212   31     8500   \n",
      "4   5  서울특별시 노원구 공릉동  5**  12m미만    29.10    전세  202212   31     9000   \n",
      "\n",
      "   월세금(만원)    건축년도      도로명           계약기간 계약구분 갱신요구권 사용 종전계약 보증금(만원)  \\\n",
      "0        0  2016.0  동일로182길  202302~202502   신규        -          NaN   \n",
      "1        0  2017.0  동일로190길  202301~202401   신규        -          NaN   \n",
      "2        0  2017.0  동일로190길  202212~202401   신규        -          NaN   \n",
      "3        0  2014.0   공릉로22길  202302~202502   신규        -          NaN   \n",
      "4        0  1992.0  동일로178길  202212~202412   신규        -          NaN   \n",
      "\n",
      "   종전계약 월세(만원)   주택유형  \n",
      "0          NaN  단독다가구  \n",
      "1          NaN  단독다가구  \n",
      "2          NaN  단독다가구  \n",
      "3          NaN  단독다가구  \n",
      "4          NaN  단독다가구  \n"
     ]
    }
   ],
   "source": [
    "# print(df_songpa_2022_1.info())\n",
    "# 데이터프레임에 변환 적용\n",
    "df_nowon_2022_1_converted = df_nowon_2022_1.apply(convert_to_jeonse, axis=1)\n",
    "\n",
    "# 수정된 데이터 확인 후 새로운 CSV 파일로 저장\n",
    "df_nowon_2022_1_converted.to_csv('modified_rental_data.csv', index=False)\n",
    "\n",
    "print(\"모든 월세 매물이 전세로 변환되었습니다.\")\n",
    "\n",
    "modified_rental_data = pd.read_csv('modified_rental_data.csv')\n",
    "print(modified_rental_data.info())\n",
    "# print(df_nowon_2022_1_converted.head())\n",
    "print(modified_rental_data.head())"
   ]
  },
  {
   "cell_type": "code",
   "execution_count": 8,
   "metadata": {},
   "outputs": [
    {
     "name": "stdout",
     "output_type": "stream",
     "text": [
      "<class 'pandas.core.frame.DataFrame'>\n",
      "Index: 2976 entries, 0 to 3336\n",
      "Data columns (total 18 columns):\n",
      " #   Column        Non-Null Count  Dtype  \n",
      "---  ------        --------------  -----  \n",
      " 0   NO            2976 non-null   int64  \n",
      " 1   시군구           2976 non-null   object \n",
      " 2   번지            2975 non-null   object \n",
      " 3   도로조건          2976 non-null   object \n",
      " 4   계약면적(㎡)       2976 non-null   float64\n",
      " 5   전월세구분         2976 non-null   object \n",
      " 6   계약년월          2976 non-null   int64  \n",
      " 7   계약일           2976 non-null   int64  \n",
      " 8   보증금(만원)       2976 non-null   int64  \n",
      " 9   월세금(만원)       2976 non-null   int64  \n",
      " 10  건축년도          2812 non-null   float64\n",
      " 11  도로명           2587 non-null   object \n",
      " 12  계약기간          2976 non-null   object \n",
      " 13  계약구분          2976 non-null   object \n",
      " 14  갱신요구권 사용      2976 non-null   object \n",
      " 15  종전계약 보증금(만원)  172 non-null    object \n",
      " 16  종전계약 월세(만원)   172 non-null    float64\n",
      " 17  주택유형          2976 non-null   object \n",
      "dtypes: float64(3), int64(5), object(10)\n",
      "memory usage: 441.8+ KB\n",
      "None\n",
      "   NO            시군구   번지   도로조건  계약면적(㎡) 전월세구분    계약년월  계약일  보증금(만원)  \\\n",
      "0   1  서울특별시 노원구 공릉동  5**   8m미만    21.23    전세  202212   31    16000   \n",
      "1   2  서울특별시 노원구 공릉동  3**   8m미만    12.10    전세  202212   31     8500   \n",
      "2   3  서울특별시 노원구 공릉동  3**   8m미만    16.52    전세  202212   31     8000   \n",
      "3   4  서울특별시 노원구 공릉동  6**   8m미만    19.00    전세  202212   31     8500   \n",
      "4   5  서울특별시 노원구 공릉동  5**  12m미만    29.10    전세  202212   31     9000   \n",
      "\n",
      "   월세금(만원)    건축년도      도로명           계약기간 계약구분 갱신요구권 사용 종전계약 보증금(만원)  \\\n",
      "0        0  2016.0  동일로182길  202302~202502   신규        -          NaN   \n",
      "1        0  2017.0  동일로190길  202301~202401   신규        -          NaN   \n",
      "2        0  2017.0  동일로190길  202212~202401   신규        -          NaN   \n",
      "3        0  2014.0   공릉로22길  202302~202502   신규        -          NaN   \n",
      "4        0  1992.0  동일로178길  202212~202412   신규        -          NaN   \n",
      "\n",
      "   종전계약 월세(만원)   주택유형  \n",
      "0          NaN  단독다가구  \n",
      "1          NaN  단독다가구  \n",
      "2          NaN  단독다가구  \n",
      "3          NaN  단독다가구  \n",
      "4          NaN  단독다가구  \n"
     ]
    }
   ],
   "source": [
    "# 소형~중형평수만 확인하기(청년층 주거지) 5480/6152\n",
    "data_for_youth = modified_rental_data[modified_rental_data['계약면적(㎡)'] < 60.00]\n",
    "print(data_for_youth.info())\n",
    "print(data_for_youth.head())"
   ]
  },
  {
   "cell_type": "code",
   "execution_count": 9,
   "metadata": {},
   "outputs": [
    {
     "name": "stdout",
     "output_type": "stream",
     "text": [
      "9073.74\n"
     ]
    }
   ],
   "source": [
    "# 소형/중형 평수의 노원구 단독다가구 전세매물 평균 가격(2022년)\n",
    "print(data_for_youth['보증금(만원)'].mean().round(2))"
   ]
  },
  {
   "cell_type": "code",
   "execution_count": 10,
   "metadata": {},
   "outputs": [],
   "source": [
    "data_for_youth.to_csv('data_for_youth.csv', index=False)"
   ]
  },
  {
   "cell_type": "code",
   "execution_count": 11,
   "metadata": {},
   "outputs": [
    {
     "name": "stdout",
     "output_type": "stream",
     "text": [
      "<class 'pandas.core.frame.DataFrame'>\n",
      "Index: 2976 entries, 0 to 3336\n",
      "Data columns (total 18 columns):\n",
      " #   Column        Non-Null Count  Dtype  \n",
      "---  ------        --------------  -----  \n",
      " 0   NO            2976 non-null   int64  \n",
      " 1   시군구           2976 non-null   object \n",
      " 2   번지            2975 non-null   object \n",
      " 3   도로조건          2976 non-null   object \n",
      " 4   계약면적(㎡)       2976 non-null   float64\n",
      " 5   전월세구분         2976 non-null   object \n",
      " 6   계약년월          2976 non-null   int64  \n",
      " 7   계약일           2976 non-null   int64  \n",
      " 8   보증금(만원)       2976 non-null   int64  \n",
      " 9   월세금(만원)       2976 non-null   int64  \n",
      " 10  건축년도          2812 non-null   float64\n",
      " 11  도로명           2587 non-null   object \n",
      " 12  계약기간          2976 non-null   object \n",
      " 13  계약구분          2976 non-null   object \n",
      " 14  갱신요구권 사용      2976 non-null   object \n",
      " 15  종전계약 보증금(만원)  172 non-null    object \n",
      " 16  종전계약 월세(만원)   172 non-null    float64\n",
      " 17  주택유형          2976 non-null   object \n",
      "dtypes: float64(3), int64(5), object(10)\n",
      "memory usage: 441.8+ KB\n"
     ]
    }
   ],
   "source": [
    "data_for_youth.info()"
   ]
  },
  {
   "cell_type": "code",
   "execution_count": 12,
   "metadata": {},
   "outputs": [],
   "source": [
    "# '도로명' 열에 결측치가 있는 행을 제거하고, 인덱스를 초기화\n",
    "data_for_youth = data_for_youth.dropna(subset=['도로명']).reset_index(drop=True)"
   ]
  },
  {
   "cell_type": "code",
   "execution_count": 13,
   "metadata": {},
   "outputs": [
    {
     "data": {
      "text/html": [
       "<div>\n",
       "<style scoped>\n",
       "    .dataframe tbody tr th:only-of-type {\n",
       "        vertical-align: middle;\n",
       "    }\n",
       "\n",
       "    .dataframe tbody tr th {\n",
       "        vertical-align: top;\n",
       "    }\n",
       "\n",
       "    .dataframe thead th {\n",
       "        text-align: right;\n",
       "    }\n",
       "</style>\n",
       "<table border=\"1\" class=\"dataframe\">\n",
       "  <thead>\n",
       "    <tr style=\"text-align: right;\">\n",
       "      <th></th>\n",
       "      <th>NO</th>\n",
       "      <th>시군구</th>\n",
       "      <th>번지</th>\n",
       "      <th>도로조건</th>\n",
       "      <th>계약면적(㎡)</th>\n",
       "      <th>전월세구분</th>\n",
       "      <th>계약년월</th>\n",
       "      <th>계약일</th>\n",
       "      <th>보증금(만원)</th>\n",
       "      <th>월세금(만원)</th>\n",
       "      <th>건축년도</th>\n",
       "      <th>도로명</th>\n",
       "      <th>계약기간</th>\n",
       "      <th>계약구분</th>\n",
       "      <th>갱신요구권 사용</th>\n",
       "      <th>종전계약 보증금(만원)</th>\n",
       "      <th>종전계약 월세(만원)</th>\n",
       "      <th>주택유형</th>\n",
       "    </tr>\n",
       "  </thead>\n",
       "  <tbody>\n",
       "    <tr>\n",
       "      <th>0</th>\n",
       "      <td>1</td>\n",
       "      <td>서울특별시 노원구 공릉동</td>\n",
       "      <td>5**</td>\n",
       "      <td>8m미만</td>\n",
       "      <td>21.23</td>\n",
       "      <td>전세</td>\n",
       "      <td>202212</td>\n",
       "      <td>31</td>\n",
       "      <td>16000</td>\n",
       "      <td>0</td>\n",
       "      <td>2016.0</td>\n",
       "      <td>동일로182길</td>\n",
       "      <td>202302~202502</td>\n",
       "      <td>신규</td>\n",
       "      <td>-</td>\n",
       "      <td>NaN</td>\n",
       "      <td>NaN</td>\n",
       "      <td>단독다가구</td>\n",
       "    </tr>\n",
       "    <tr>\n",
       "      <th>1</th>\n",
       "      <td>2</td>\n",
       "      <td>서울특별시 노원구 공릉동</td>\n",
       "      <td>3**</td>\n",
       "      <td>8m미만</td>\n",
       "      <td>12.10</td>\n",
       "      <td>전세</td>\n",
       "      <td>202212</td>\n",
       "      <td>31</td>\n",
       "      <td>8500</td>\n",
       "      <td>0</td>\n",
       "      <td>2017.0</td>\n",
       "      <td>동일로190길</td>\n",
       "      <td>202301~202401</td>\n",
       "      <td>신규</td>\n",
       "      <td>-</td>\n",
       "      <td>NaN</td>\n",
       "      <td>NaN</td>\n",
       "      <td>단독다가구</td>\n",
       "    </tr>\n",
       "    <tr>\n",
       "      <th>2</th>\n",
       "      <td>3</td>\n",
       "      <td>서울특별시 노원구 공릉동</td>\n",
       "      <td>3**</td>\n",
       "      <td>8m미만</td>\n",
       "      <td>16.52</td>\n",
       "      <td>전세</td>\n",
       "      <td>202212</td>\n",
       "      <td>31</td>\n",
       "      <td>8000</td>\n",
       "      <td>0</td>\n",
       "      <td>2017.0</td>\n",
       "      <td>동일로190길</td>\n",
       "      <td>202212~202401</td>\n",
       "      <td>신규</td>\n",
       "      <td>-</td>\n",
       "      <td>NaN</td>\n",
       "      <td>NaN</td>\n",
       "      <td>단독다가구</td>\n",
       "    </tr>\n",
       "    <tr>\n",
       "      <th>3</th>\n",
       "      <td>4</td>\n",
       "      <td>서울특별시 노원구 공릉동</td>\n",
       "      <td>6**</td>\n",
       "      <td>8m미만</td>\n",
       "      <td>19.00</td>\n",
       "      <td>전세</td>\n",
       "      <td>202212</td>\n",
       "      <td>31</td>\n",
       "      <td>8500</td>\n",
       "      <td>0</td>\n",
       "      <td>2014.0</td>\n",
       "      <td>공릉로22길</td>\n",
       "      <td>202302~202502</td>\n",
       "      <td>신규</td>\n",
       "      <td>-</td>\n",
       "      <td>NaN</td>\n",
       "      <td>NaN</td>\n",
       "      <td>단독다가구</td>\n",
       "    </tr>\n",
       "    <tr>\n",
       "      <th>4</th>\n",
       "      <td>5</td>\n",
       "      <td>서울특별시 노원구 공릉동</td>\n",
       "      <td>5**</td>\n",
       "      <td>12m미만</td>\n",
       "      <td>29.10</td>\n",
       "      <td>전세</td>\n",
       "      <td>202212</td>\n",
       "      <td>31</td>\n",
       "      <td>9000</td>\n",
       "      <td>0</td>\n",
       "      <td>1992.0</td>\n",
       "      <td>동일로178길</td>\n",
       "      <td>202212~202412</td>\n",
       "      <td>신규</td>\n",
       "      <td>-</td>\n",
       "      <td>NaN</td>\n",
       "      <td>NaN</td>\n",
       "      <td>단독다가구</td>\n",
       "    </tr>\n",
       "    <tr>\n",
       "      <th>...</th>\n",
       "      <td>...</td>\n",
       "      <td>...</td>\n",
       "      <td>...</td>\n",
       "      <td>...</td>\n",
       "      <td>...</td>\n",
       "      <td>...</td>\n",
       "      <td>...</td>\n",
       "      <td>...</td>\n",
       "      <td>...</td>\n",
       "      <td>...</td>\n",
       "      <td>...</td>\n",
       "      <td>...</td>\n",
       "      <td>...</td>\n",
       "      <td>...</td>\n",
       "      <td>...</td>\n",
       "      <td>...</td>\n",
       "      <td>...</td>\n",
       "      <td>...</td>\n",
       "    </tr>\n",
       "    <tr>\n",
       "      <th>2582</th>\n",
       "      <td>3327</td>\n",
       "      <td>서울특별시 노원구 월계동</td>\n",
       "      <td>3**</td>\n",
       "      <td>8m미만</td>\n",
       "      <td>17.00</td>\n",
       "      <td>전세</td>\n",
       "      <td>202201</td>\n",
       "      <td>3</td>\n",
       "      <td>7000</td>\n",
       "      <td>0</td>\n",
       "      <td>2017.0</td>\n",
       "      <td>광운로15길</td>\n",
       "      <td>202202~202402</td>\n",
       "      <td>신규</td>\n",
       "      <td>-</td>\n",
       "      <td>NaN</td>\n",
       "      <td>NaN</td>\n",
       "      <td>단독다가구</td>\n",
       "    </tr>\n",
       "    <tr>\n",
       "      <th>2583</th>\n",
       "      <td>3328</td>\n",
       "      <td>서울특별시 노원구 월계동</td>\n",
       "      <td>4**</td>\n",
       "      <td>8m미만</td>\n",
       "      <td>14.00</td>\n",
       "      <td>전세</td>\n",
       "      <td>202201</td>\n",
       "      <td>3</td>\n",
       "      <td>8500</td>\n",
       "      <td>0</td>\n",
       "      <td>2017.0</td>\n",
       "      <td>광운로7길</td>\n",
       "      <td>202201~202301</td>\n",
       "      <td>신규</td>\n",
       "      <td>-</td>\n",
       "      <td>NaN</td>\n",
       "      <td>NaN</td>\n",
       "      <td>단독다가구</td>\n",
       "    </tr>\n",
       "    <tr>\n",
       "      <th>2584</th>\n",
       "      <td>3335</td>\n",
       "      <td>서울특별시 노원구 공릉동</td>\n",
       "      <td>4**</td>\n",
       "      <td>8m미만</td>\n",
       "      <td>16.00</td>\n",
       "      <td>전세</td>\n",
       "      <td>202201</td>\n",
       "      <td>2</td>\n",
       "      <td>8500</td>\n",
       "      <td>0</td>\n",
       "      <td>2014.0</td>\n",
       "      <td>공릉로43가길</td>\n",
       "      <td>202202~202302</td>\n",
       "      <td>신규</td>\n",
       "      <td>-</td>\n",
       "      <td>NaN</td>\n",
       "      <td>NaN</td>\n",
       "      <td>단독다가구</td>\n",
       "    </tr>\n",
       "    <tr>\n",
       "      <th>2585</th>\n",
       "      <td>3336</td>\n",
       "      <td>서울특별시 노원구 공릉동</td>\n",
       "      <td>5**</td>\n",
       "      <td>8m미만</td>\n",
       "      <td>23.00</td>\n",
       "      <td>전세</td>\n",
       "      <td>202201</td>\n",
       "      <td>1</td>\n",
       "      <td>9500</td>\n",
       "      <td>0</td>\n",
       "      <td>2017.0</td>\n",
       "      <td>동일로180길</td>\n",
       "      <td>202202~202402</td>\n",
       "      <td>신규</td>\n",
       "      <td>-</td>\n",
       "      <td>NaN</td>\n",
       "      <td>NaN</td>\n",
       "      <td>단독다가구</td>\n",
       "    </tr>\n",
       "    <tr>\n",
       "      <th>2586</th>\n",
       "      <td>3337</td>\n",
       "      <td>서울특별시 노원구 공릉동</td>\n",
       "      <td>2**</td>\n",
       "      <td>8m미만</td>\n",
       "      <td>20.00</td>\n",
       "      <td>전세</td>\n",
       "      <td>202201</td>\n",
       "      <td>1</td>\n",
       "      <td>10000</td>\n",
       "      <td>0</td>\n",
       "      <td>2011.0</td>\n",
       "      <td>공릉로32길</td>\n",
       "      <td>202201~202301</td>\n",
       "      <td>신규</td>\n",
       "      <td>-</td>\n",
       "      <td>NaN</td>\n",
       "      <td>NaN</td>\n",
       "      <td>단독다가구</td>\n",
       "    </tr>\n",
       "  </tbody>\n",
       "</table>\n",
       "<p>2587 rows × 18 columns</p>\n",
       "</div>"
      ],
      "text/plain": [
       "        NO            시군구   번지   도로조건  계약면적(㎡) 전월세구분    계약년월  계약일  보증금(만원)  \\\n",
       "0        1  서울특별시 노원구 공릉동  5**   8m미만    21.23    전세  202212   31    16000   \n",
       "1        2  서울특별시 노원구 공릉동  3**   8m미만    12.10    전세  202212   31     8500   \n",
       "2        3  서울특별시 노원구 공릉동  3**   8m미만    16.52    전세  202212   31     8000   \n",
       "3        4  서울특별시 노원구 공릉동  6**   8m미만    19.00    전세  202212   31     8500   \n",
       "4        5  서울특별시 노원구 공릉동  5**  12m미만    29.10    전세  202212   31     9000   \n",
       "...    ...            ...  ...    ...      ...   ...     ...  ...      ...   \n",
       "2582  3327  서울특별시 노원구 월계동  3**   8m미만    17.00    전세  202201    3     7000   \n",
       "2583  3328  서울특별시 노원구 월계동  4**   8m미만    14.00    전세  202201    3     8500   \n",
       "2584  3335  서울특별시 노원구 공릉동  4**   8m미만    16.00    전세  202201    2     8500   \n",
       "2585  3336  서울특별시 노원구 공릉동  5**   8m미만    23.00    전세  202201    1     9500   \n",
       "2586  3337  서울특별시 노원구 공릉동  2**   8m미만    20.00    전세  202201    1    10000   \n",
       "\n",
       "      월세금(만원)    건축년도      도로명           계약기간 계약구분 갱신요구권 사용 종전계약 보증금(만원)  \\\n",
       "0           0  2016.0  동일로182길  202302~202502   신규        -          NaN   \n",
       "1           0  2017.0  동일로190길  202301~202401   신규        -          NaN   \n",
       "2           0  2017.0  동일로190길  202212~202401   신규        -          NaN   \n",
       "3           0  2014.0   공릉로22길  202302~202502   신규        -          NaN   \n",
       "4           0  1992.0  동일로178길  202212~202412   신규        -          NaN   \n",
       "...       ...     ...      ...            ...  ...      ...          ...   \n",
       "2582        0  2017.0   광운로15길  202202~202402   신규        -          NaN   \n",
       "2583        0  2017.0    광운로7길  202201~202301   신규        -          NaN   \n",
       "2584        0  2014.0  공릉로43가길  202202~202302   신규        -          NaN   \n",
       "2585        0  2017.0  동일로180길  202202~202402   신규        -          NaN   \n",
       "2586        0  2011.0   공릉로32길  202201~202301   신규        -          NaN   \n",
       "\n",
       "      종전계약 월세(만원)   주택유형  \n",
       "0             NaN  단독다가구  \n",
       "1             NaN  단독다가구  \n",
       "2             NaN  단독다가구  \n",
       "3             NaN  단독다가구  \n",
       "4             NaN  단독다가구  \n",
       "...           ...    ...  \n",
       "2582          NaN  단독다가구  \n",
       "2583          NaN  단독다가구  \n",
       "2584          NaN  단독다가구  \n",
       "2585          NaN  단독다가구  \n",
       "2586          NaN  단독다가구  \n",
       "\n",
       "[2587 rows x 18 columns]"
      ]
     },
     "execution_count": 13,
     "metadata": {},
     "output_type": "execute_result"
    }
   ],
   "source": [
    "data_for_youth"
   ]
  },
  {
   "cell_type": "code",
   "execution_count": 14,
   "metadata": {},
   "outputs": [
    {
     "name": "stdout",
     "output_type": "stream",
     "text": [
      "<class 'pandas.core.frame.DataFrame'>\n",
      "RangeIndex: 2587 entries, 0 to 2586\n",
      "Data columns (total 18 columns):\n",
      " #   Column        Non-Null Count  Dtype  \n",
      "---  ------        --------------  -----  \n",
      " 0   NO            2587 non-null   int64  \n",
      " 1   시군구           2587 non-null   object \n",
      " 2   번지            2587 non-null   object \n",
      " 3   도로조건          2587 non-null   object \n",
      " 4   계약면적(㎡)       2587 non-null   float64\n",
      " 5   전월세구분         2587 non-null   object \n",
      " 6   계약년월          2587 non-null   int64  \n",
      " 7   계약일           2587 non-null   int64  \n",
      " 8   보증금(만원)       2587 non-null   int64  \n",
      " 9   월세금(만원)       2587 non-null   int64  \n",
      " 10  건축년도          2485 non-null   float64\n",
      " 11  도로명           2587 non-null   object \n",
      " 12  계약기간          2587 non-null   object \n",
      " 13  계약구분          2587 non-null   object \n",
      " 14  갱신요구권 사용      2587 non-null   object \n",
      " 15  종전계약 보증금(만원)  169 non-null    object \n",
      " 16  종전계약 월세(만원)   169 non-null    float64\n",
      " 17  주택유형          2587 non-null   object \n",
      "dtypes: float64(3), int64(5), object(10)\n",
      "memory usage: 363.9+ KB\n"
     ]
    }
   ],
   "source": [
    "data_for_youth.info()"
   ]
  },
  {
   "cell_type": "code",
   "execution_count": 15,
   "metadata": {},
   "outputs": [],
   "source": [
    "map_addr = data_for_youth['도로명']"
   ]
  },
  {
   "cell_type": "code",
   "execution_count": 16,
   "metadata": {},
   "outputs": [
    {
     "data": {
      "text/plain": [
       "0       동일로182길\n",
       "1       동일로190길\n",
       "2       동일로190길\n",
       "3        공릉로22길\n",
       "4       동일로178길\n",
       "         ...   \n",
       "2582     광운로15길\n",
       "2583      광운로7길\n",
       "2584    공릉로43가길\n",
       "2585    동일로180길\n",
       "2586     공릉로32길\n",
       "Name: 도로명, Length: 2587, dtype: object"
      ]
     },
     "execution_count": 16,
     "metadata": {},
     "output_type": "execute_result"
    }
   ],
   "source": [
    "map_addr"
   ]
  },
  {
   "cell_type": "code",
   "execution_count": 17,
   "metadata": {},
   "outputs": [
    {
     "name": "stderr",
     "output_type": "stream",
     "text": [
      "Geocoding 진행 상황:   0%|          | 0/2587 [00:00<?, ?it/s]"
     ]
    },
    {
     "name": "stderr",
     "output_type": "stream",
     "text": [
      "Geocoding 진행 상황:   0%|          | 4/2587 [00:04<50:15,  1.17s/it]"
     ]
    },
    {
     "name": "stdout",
     "output_type": "stream",
     "text": [
      "주소를 인식할 수 없습니다: 공릉로22길\n"
     ]
    },
    {
     "name": "stderr",
     "output_type": "stream",
     "text": [
      "Geocoding 진행 상황:   1%|▏         | 36/2587 [00:43<50:46,  1.19s/it]"
     ]
    },
    {
     "name": "stdout",
     "output_type": "stream",
     "text": [
      "주소를 인식할 수 없습니다: 공릉로58라길\n"
     ]
    },
    {
     "name": "stderr",
     "output_type": "stream",
     "text": [
      "Geocoding 진행 상황:   4%|▎         | 92/2587 [01:51<49:59,  1.20s/it]"
     ]
    },
    {
     "name": "stdout",
     "output_type": "stream",
     "text": [
      "주소를 인식할 수 없습니다: 상계로13길\n"
     ]
    },
    {
     "name": "stderr",
     "output_type": "stream",
     "text": [
      "Geocoding 진행 상황:   6%|▌         | 149/2587 [03:00<50:11,  1.24s/it]"
     ]
    },
    {
     "name": "stdout",
     "output_type": "stream",
     "text": [
      "주소를 인식할 수 없습니다: 공릉로58라길\n"
     ]
    },
    {
     "name": "stderr",
     "output_type": "stream",
     "text": [
      "Geocoding 진행 상황:   7%|▋         | 188/2587 [03:48<48:37,  1.22s/it]"
     ]
    },
    {
     "name": "stdout",
     "output_type": "stream",
     "text": [
      "주소를 인식할 수 없습니다: 공릉로20가길\n"
     ]
    },
    {
     "name": "stderr",
     "output_type": "stream",
     "text": [
      "Geocoding 진행 상황:   8%|▊         | 204/2587 [04:09<49:17,  1.24s/it]"
     ]
    },
    {
     "name": "stdout",
     "output_type": "stream",
     "text": [
      "주소를 인식할 수 없습니다: 공릉로22길\n"
     ]
    },
    {
     "name": "stderr",
     "output_type": "stream",
     "text": [
      "Geocoding 진행 상황:   9%|▉         | 238/2587 [04:50<48:07,  1.23s/it]"
     ]
    },
    {
     "name": "stdout",
     "output_type": "stream",
     "text": [
      "주소를 인식할 수 없습니다: 상계로13길\n"
     ]
    },
    {
     "name": "stderr",
     "output_type": "stream",
     "text": [
      "Geocoding 진행 상황:  10%|▉         | 255/2587 [05:11<47:08,  1.21s/it]"
     ]
    },
    {
     "name": "stdout",
     "output_type": "stream",
     "text": [
      "주소를 인식할 수 없습니다: 공릉로33길\n"
     ]
    },
    {
     "name": "stderr",
     "output_type": "stream",
     "text": [
      "Geocoding 진행 상황:  10%|█         | 265/2587 [05:24<47:44,  1.23s/it]"
     ]
    },
    {
     "name": "stdout",
     "output_type": "stream",
     "text": [
      "주소를 인식할 수 없습니다: 공릉로29길\n"
     ]
    },
    {
     "name": "stderr",
     "output_type": "stream",
     "text": [
      "Geocoding 진행 상황:  12%|█▏        | 304/2587 [06:12<46:30,  1.22s/it]"
     ]
    },
    {
     "name": "stdout",
     "output_type": "stream",
     "text": [
      "주소를 인식할 수 없습니다: 공릉로58라길\n"
     ]
    },
    {
     "name": "stderr",
     "output_type": "stream",
     "text": [
      "Geocoding 진행 상황:  14%|█▍        | 360/2587 [07:20<45:06,  1.22s/it]"
     ]
    },
    {
     "name": "stdout",
     "output_type": "stream",
     "text": [
      "주소를 인식할 수 없습니다: 덕릉로87길\n"
     ]
    },
    {
     "name": "stderr",
     "output_type": "stream",
     "text": [
      "Geocoding 진행 상황:  14%|█▍        | 373/2587 [07:36<45:44,  1.24s/it]"
     ]
    },
    {
     "name": "stdout",
     "output_type": "stream",
     "text": [
      "주소를 인식할 수 없습니다: 상계로21길\n"
     ]
    },
    {
     "name": "stderr",
     "output_type": "stream",
     "text": [
      "Geocoding 진행 상황:  15%|█▌        | 395/2587 [08:03<43:41,  1.20s/it]"
     ]
    },
    {
     "name": "stdout",
     "output_type": "stream",
     "text": [
      "주소를 인식할 수 없습니다: 동일로230나길\n"
     ]
    },
    {
     "name": "stderr",
     "output_type": "stream",
     "text": [
      "Geocoding 진행 상황:  17%|█▋        | 448/2587 [09:06<42:02,  1.18s/it]"
     ]
    },
    {
     "name": "stdout",
     "output_type": "stream",
     "text": [
      "주소를 인식할 수 없습니다: 동일로230나길\n"
     ]
    },
    {
     "name": "stderr",
     "output_type": "stream",
     "text": [
      "Geocoding 진행 상황:  17%|█▋        | 450/2587 [09:09<42:48,  1.20s/it]"
     ]
    },
    {
     "name": "stdout",
     "output_type": "stream",
     "text": [
      "주소를 인식할 수 없습니다: 상계로13길\n"
     ]
    },
    {
     "name": "stderr",
     "output_type": "stream",
     "text": [
      "Geocoding 진행 상황:  20%|█▉        | 509/2587 [10:21<47:49,  1.38s/it]"
     ]
    },
    {
     "name": "stdout",
     "output_type": "stream",
     "text": [
      "주소를 인식할 수 없습니다: 상계로19길\n"
     ]
    },
    {
     "name": "stderr",
     "output_type": "stream",
     "text": [
      "Geocoding 진행 상황:  21%|██▏       | 551/2587 [11:11<39:41,  1.17s/it]"
     ]
    },
    {
     "name": "stdout",
     "output_type": "stream",
     "text": [
      "주소를 인식할 수 없습니다: 공릉로33길\n"
     ]
    },
    {
     "name": "stderr",
     "output_type": "stream",
     "text": [
      "Geocoding 진행 상황:  22%|██▏       | 580/2587 [11:46<38:58,  1.17s/it]"
     ]
    },
    {
     "name": "stdout",
     "output_type": "stream",
     "text": [
      "주소를 인식할 수 없습니다: 상계로13길\n"
     ]
    },
    {
     "name": "stderr",
     "output_type": "stream",
     "text": [
      "Geocoding 진행 상황:  23%|██▎       | 603/2587 [12:14<38:52,  1.18s/it]"
     ]
    },
    {
     "name": "stdout",
     "output_type": "stream",
     "text": [
      "주소를 인식할 수 없습니다: 공릉로58라길\n"
     ]
    },
    {
     "name": "stderr",
     "output_type": "stream",
     "text": [
      "Geocoding 진행 상황:  24%|██▎       | 613/2587 [12:26<39:00,  1.19s/it]"
     ]
    },
    {
     "name": "stdout",
     "output_type": "stream",
     "text": [
      "주소를 인식할 수 없습니다: 덕릉로92길\n"
     ]
    },
    {
     "name": "stderr",
     "output_type": "stream",
     "text": [
      "Geocoding 진행 상황:  24%|██▍       | 616/2587 [12:29<38:35,  1.17s/it]"
     ]
    },
    {
     "name": "stdout",
     "output_type": "stream",
     "text": [
      "주소를 인식할 수 없습니다: 공릉로22길\n"
     ]
    },
    {
     "name": "stderr",
     "output_type": "stream",
     "text": [
      "Geocoding 진행 상황:  24%|██▍       | 621/2587 [12:35<37:41,  1.15s/it]"
     ]
    },
    {
     "name": "stdout",
     "output_type": "stream",
     "text": [
      "주소를 인식할 수 없습니다: 상계로15길\n"
     ]
    },
    {
     "name": "stderr",
     "output_type": "stream",
     "text": [
      "Geocoding 진행 상황:  26%|██▌       | 668/2587 [13:34<40:09,  1.26s/it]"
     ]
    },
    {
     "name": "stdout",
     "output_type": "stream",
     "text": [
      "주소를 인식할 수 없습니다: 상계로19길\n"
     ]
    },
    {
     "name": "stderr",
     "output_type": "stream",
     "text": [
      "Geocoding 진행 상황:  27%|██▋       | 686/2587 [13:55<37:12,  1.17s/it]"
     ]
    },
    {
     "name": "stdout",
     "output_type": "stream",
     "text": [
      "주소를 인식할 수 없습니다: 상계로13길\n"
     ]
    },
    {
     "name": "stderr",
     "output_type": "stream",
     "text": [
      "Geocoding 진행 상황:  27%|██▋       | 688/2587 [13:57<36:32,  1.15s/it]"
     ]
    },
    {
     "name": "stdout",
     "output_type": "stream",
     "text": [
      "주소를 인식할 수 없습니다: 공릉로29길\n"
     ]
    },
    {
     "name": "stderr",
     "output_type": "stream",
     "text": [
      "Geocoding 진행 상황:  27%|██▋       | 689/2587 [13:59<36:37,  1.16s/it]"
     ]
    },
    {
     "name": "stdout",
     "output_type": "stream",
     "text": [
      "주소를 인식할 수 없습니다: 공릉로29길\n"
     ]
    },
    {
     "name": "stderr",
     "output_type": "stream",
     "text": [
      "Geocoding 진행 상황:  27%|██▋       | 697/2587 [14:08<36:56,  1.17s/it]"
     ]
    },
    {
     "name": "stdout",
     "output_type": "stream",
     "text": [
      "주소를 인식할 수 없습니다: 공릉로33길\n"
     ]
    },
    {
     "name": "stderr",
     "output_type": "stream",
     "text": [
      "Geocoding 진행 상황:  27%|██▋       | 707/2587 [14:20<37:01,  1.18s/it]"
     ]
    },
    {
     "name": "stdout",
     "output_type": "stream",
     "text": [
      "주소를 인식할 수 없습니다: 공릉로35길\n"
     ]
    },
    {
     "name": "stderr",
     "output_type": "stream",
     "text": [
      "Geocoding 진행 상황:  28%|██▊       | 723/2587 [14:39<37:39,  1.21s/it]"
     ]
    },
    {
     "name": "stdout",
     "output_type": "stream",
     "text": [
      "주소를 인식할 수 없습니다: 공릉로20가길\n"
     ]
    },
    {
     "name": "stderr",
     "output_type": "stream",
     "text": [
      "Geocoding 진행 상황:  28%|██▊       | 728/2587 [14:45<37:45,  1.22s/it]"
     ]
    },
    {
     "name": "stdout",
     "output_type": "stream",
     "text": [
      "주소를 인식할 수 없습니다: 상계로13길\n"
     ]
    },
    {
     "name": "stderr",
     "output_type": "stream",
     "text": [
      "Geocoding 진행 상황:  28%|██▊       | 732/2587 [14:50<37:26,  1.21s/it]"
     ]
    },
    {
     "name": "stdout",
     "output_type": "stream",
     "text": [
      "주소를 인식할 수 없습니다: 덕릉로92길\n"
     ]
    },
    {
     "name": "stderr",
     "output_type": "stream",
     "text": [
      "Geocoding 진행 상황:  31%|███       | 790/2587 [16:02<36:40,  1.22s/it]"
     ]
    },
    {
     "name": "stdout",
     "output_type": "stream",
     "text": [
      "주소를 인식할 수 없습니다: 공릉로35길\n"
     ]
    },
    {
     "name": "stderr",
     "output_type": "stream",
     "text": [
      "Geocoding 진행 상황:  31%|███       | 798/2587 [16:12<38:25,  1.29s/it]"
     ]
    },
    {
     "name": "stdout",
     "output_type": "stream",
     "text": [
      "주소를 인식할 수 없습니다: 상계로19길\n"
     ]
    },
    {
     "name": "stderr",
     "output_type": "stream",
     "text": [
      "Geocoding 진행 상황:  32%|███▏      | 833/2587 [16:55<35:38,  1.22s/it]"
     ]
    },
    {
     "name": "stdout",
     "output_type": "stream",
     "text": [
      "주소를 인식할 수 없습니다: 공릉로58라길\n"
     ]
    },
    {
     "name": "stderr",
     "output_type": "stream",
     "text": [
      "Geocoding 진행 상황:  32%|███▏      | 834/2587 [16:57<35:25,  1.21s/it]"
     ]
    },
    {
     "name": "stdout",
     "output_type": "stream",
     "text": [
      "주소를 인식할 수 없습니다: 공릉로58라길\n"
     ]
    },
    {
     "name": "stderr",
     "output_type": "stream",
     "text": [
      "Geocoding 진행 상황:  32%|███▏      | 835/2587 [16:58<34:31,  1.18s/it]"
     ]
    },
    {
     "name": "stdout",
     "output_type": "stream",
     "text": [
      "주소를 인식할 수 없습니다: 상계로13길\n"
     ]
    },
    {
     "name": "stderr",
     "output_type": "stream",
     "text": [
      "Geocoding 진행 상황:  32%|███▏      | 839/2587 [17:02<34:10,  1.17s/it]"
     ]
    },
    {
     "name": "stdout",
     "output_type": "stream",
     "text": [
      "주소를 인식할 수 없습니다: 상계로19길\n"
     ]
    },
    {
     "name": "stderr",
     "output_type": "stream",
     "text": [
      "Geocoding 진행 상황:  33%|███▎      | 863/2587 [17:32<33:37,  1.17s/it]"
     ]
    },
    {
     "name": "stdout",
     "output_type": "stream",
     "text": [
      "주소를 인식할 수 없습니다: 덕릉로92길\n"
     ]
    },
    {
     "name": "stderr",
     "output_type": "stream",
     "text": [
      "Geocoding 진행 상황:  34%|███▎      | 869/2587 [17:39<34:05,  1.19s/it]"
     ]
    },
    {
     "name": "stdout",
     "output_type": "stream",
     "text": [
      "주소를 인식할 수 없습니다: 공릉로58라길\n"
     ]
    },
    {
     "name": "stderr",
     "output_type": "stream",
     "text": [
      "Geocoding 진행 상황:  35%|███▌      | 918/2587 [18:40<33:18,  1.20s/it]"
     ]
    },
    {
     "name": "stdout",
     "output_type": "stream",
     "text": [
      "주소를 인식할 수 없습니다: 석계로15길\n"
     ]
    },
    {
     "name": "stderr",
     "output_type": "stream",
     "text": [
      "Geocoding 진행 상황:  36%|███▌      | 929/2587 [18:53<32:48,  1.19s/it]"
     ]
    },
    {
     "name": "stdout",
     "output_type": "stream",
     "text": [
      "주소를 인식할 수 없습니다: 상계로15길\n"
     ]
    },
    {
     "name": "stderr",
     "output_type": "stream",
     "text": [
      "Geocoding 진행 상황:  38%|███▊      | 988/2587 [20:06<32:05,  1.20s/it]"
     ]
    },
    {
     "name": "stdout",
     "output_type": "stream",
     "text": [
      "주소를 인식할 수 없습니다: 상계로13길\n"
     ]
    },
    {
     "name": "stderr",
     "output_type": "stream",
     "text": [
      "Geocoding 진행 상황:  39%|███▉      | 1006/2587 [20:29<31:40,  1.20s/it]"
     ]
    },
    {
     "name": "stdout",
     "output_type": "stream",
     "text": [
      "주소를 인식할 수 없습니다: 상계로13길\n"
     ]
    },
    {
     "name": "stderr",
     "output_type": "stream",
     "text": [
      "Geocoding 진행 상황:  40%|███▉      | 1033/2587 [21:02<31:55,  1.23s/it]"
     ]
    },
    {
     "name": "stdout",
     "output_type": "stream",
     "text": [
      "주소를 인식할 수 없습니다: 상계로13길\n"
     ]
    },
    {
     "name": "stderr",
     "output_type": "stream",
     "text": [
      "Geocoding 진행 상황:  42%|████▏     | 1080/2587 [22:02<32:16,  1.28s/it]"
     ]
    },
    {
     "name": "stdout",
     "output_type": "stream",
     "text": [
      "주소를 인식할 수 없습니다: 공릉로22길\n"
     ]
    },
    {
     "name": "stderr",
     "output_type": "stream",
     "text": [
      "Geocoding 진행 상황:  43%|████▎     | 1119/2587 [22:51<30:08,  1.23s/it]"
     ]
    },
    {
     "name": "stdout",
     "output_type": "stream",
     "text": [
      "주소를 인식할 수 없습니다: 공릉로22길\n"
     ]
    },
    {
     "name": "stderr",
     "output_type": "stream",
     "text": [
      "Geocoding 진행 상황:  43%|████▎     | 1123/2587 [22:55<29:44,  1.22s/it]"
     ]
    },
    {
     "name": "stdout",
     "output_type": "stream",
     "text": [
      "주소를 인식할 수 없습니다: 상계로13길\n"
     ]
    },
    {
     "name": "stderr",
     "output_type": "stream",
     "text": [
      "Geocoding 진행 상황:  44%|████▍     | 1132/2587 [23:07<29:51,  1.23s/it]"
     ]
    },
    {
     "name": "stdout",
     "output_type": "stream",
     "text": [
      "주소를 인식할 수 없습니다: 상계로13길\n"
     ]
    },
    {
     "name": "stderr",
     "output_type": "stream",
     "text": [
      "Geocoding 진행 상황:  44%|████▍     | 1139/2587 [23:15<30:34,  1.27s/it]"
     ]
    },
    {
     "name": "stdout",
     "output_type": "stream",
     "text": [
      "주소를 인식할 수 없습니다: 상계로21길\n"
     ]
    },
    {
     "name": "stderr",
     "output_type": "stream",
     "text": [
      "Geocoding 진행 상황:  45%|████▌     | 1169/2587 [23:53<29:16,  1.24s/it]"
     ]
    },
    {
     "name": "stdout",
     "output_type": "stream",
     "text": [
      "주소를 인식할 수 없습니다: 상계로21길\n"
     ]
    },
    {
     "name": "stderr",
     "output_type": "stream",
     "text": [
      "Geocoding 진행 상황:  46%|████▌     | 1184/2587 [24:12<28:50,  1.23s/it]"
     ]
    },
    {
     "name": "stdout",
     "output_type": "stream",
     "text": [
      "주소를 인식할 수 없습니다: 덕릉로109나길\n"
     ]
    },
    {
     "name": "stderr",
     "output_type": "stream",
     "text": [
      "Geocoding 진행 상황:  47%|████▋     | 1203/2587 [24:35<29:35,  1.28s/it]"
     ]
    },
    {
     "name": "stdout",
     "output_type": "stream",
     "text": [
      "주소를 인식할 수 없습니다: 석계로15길\n"
     ]
    },
    {
     "name": "stderr",
     "output_type": "stream",
     "text": [
      "Geocoding 진행 상황:  47%|████▋     | 1228/2587 [48:58<35:41,  1.58s/it]     "
     ]
    },
    {
     "name": "stdout",
     "output_type": "stream",
     "text": [
      "주소를 인식할 수 없습니다: 상계로21길\n"
     ]
    },
    {
     "name": "stderr",
     "output_type": "stream",
     "text": [
      "Geocoding 진행 상황:  48%|████▊     | 1244/2587 [49:18<27:03,  1.21s/it]"
     ]
    },
    {
     "name": "stdout",
     "output_type": "stream",
     "text": [
      "주소를 인식할 수 없습니다: 상계로13길\n"
     ]
    },
    {
     "name": "stderr",
     "output_type": "stream",
     "text": [
      "Geocoding 진행 상황:  50%|█████     | 1303/2587 [50:31<27:10,  1.27s/it]"
     ]
    },
    {
     "name": "stdout",
     "output_type": "stream",
     "text": [
      "주소를 인식할 수 없습니다: 공릉로29길\n"
     ]
    },
    {
     "name": "stderr",
     "output_type": "stream",
     "text": [
      "Geocoding 진행 상황:  51%|█████▏    | 1329/2587 [51:03<26:29,  1.26s/it]"
     ]
    },
    {
     "name": "stdout",
     "output_type": "stream",
     "text": [
      "주소를 인식할 수 없습니다: 상계로21길\n"
     ]
    },
    {
     "name": "stderr",
     "output_type": "stream",
     "text": [
      "Geocoding 진행 상황:  52%|█████▏    | 1341/2587 [51:18<24:45,  1.19s/it]"
     ]
    },
    {
     "name": "stdout",
     "output_type": "stream",
     "text": [
      "주소를 인식할 수 없습니다: 덕릉로92길\n"
     ]
    },
    {
     "name": "stderr",
     "output_type": "stream",
     "text": [
      "Geocoding 진행 상황:  53%|█████▎    | 1374/2587 [52:00<25:27,  1.26s/it]"
     ]
    },
    {
     "name": "stdout",
     "output_type": "stream",
     "text": [
      "주소를 인식할 수 없습니다: 상계로15길\n"
     ]
    },
    {
     "name": "stderr",
     "output_type": "stream",
     "text": [
      "Geocoding 진행 상황:  56%|█████▌    | 1453/2587 [53:38<23:41,  1.25s/it]"
     ]
    },
    {
     "name": "stdout",
     "output_type": "stream",
     "text": [
      "주소를 인식할 수 없습니다: 공릉로22길\n"
     ]
    },
    {
     "name": "stderr",
     "output_type": "stream",
     "text": [
      "Geocoding 진행 상황:  57%|█████▋    | 1464/2587 [53:52<22:51,  1.22s/it]"
     ]
    },
    {
     "name": "stdout",
     "output_type": "stream",
     "text": [
      "주소를 인식할 수 없습니다: 공릉로24길\n"
     ]
    },
    {
     "name": "stderr",
     "output_type": "stream",
     "text": [
      "Geocoding 진행 상황:  57%|█████▋    | 1467/2587 [53:55<22:23,  1.20s/it]"
     ]
    },
    {
     "name": "stdout",
     "output_type": "stream",
     "text": [
      "주소를 인식할 수 없습니다: 덕릉로92길\n"
     ]
    },
    {
     "name": "stderr",
     "output_type": "stream",
     "text": [
      "Geocoding 진행 상황:  57%|█████▋    | 1477/2587 [54:07<22:39,  1.23s/it]"
     ]
    },
    {
     "name": "stdout",
     "output_type": "stream",
     "text": [
      "주소를 인식할 수 없습니다: 공릉로22길\n"
     ]
    },
    {
     "name": "stderr",
     "output_type": "stream",
     "text": [
      "Geocoding 진행 상황:  57%|█████▋    | 1487/2587 [54:20<23:11,  1.26s/it]"
     ]
    },
    {
     "name": "stdout",
     "output_type": "stream",
     "text": [
      "주소를 인식할 수 없습니다: 상계로19길\n"
     ]
    },
    {
     "name": "stderr",
     "output_type": "stream",
     "text": [
      "Geocoding 진행 상황:  58%|█████▊    | 1495/2587 [54:30<21:57,  1.21s/it]"
     ]
    },
    {
     "name": "stdout",
     "output_type": "stream",
     "text": [
      "주소를 인식할 수 없습니다: 상계로13길\n"
     ]
    },
    {
     "name": "stderr",
     "output_type": "stream",
     "text": [
      "Geocoding 진행 상황:  60%|█████▉    | 1549/2587 [55:37<21:33,  1.25s/it]"
     ]
    },
    {
     "name": "stdout",
     "output_type": "stream",
     "text": [
      "주소를 인식할 수 없습니다: 공릉로22길\n"
     ]
    },
    {
     "name": "stderr",
     "output_type": "stream",
     "text": [
      "Geocoding 진행 상황:  60%|██████    | 1557/2587 [55:47<20:58,  1.22s/it]"
     ]
    },
    {
     "name": "stdout",
     "output_type": "stream",
     "text": [
      "주소를 인식할 수 없습니다: 덕릉로92길\n"
     ]
    },
    {
     "name": "stderr",
     "output_type": "stream",
     "text": [
      "Geocoding 진행 상황:  62%|██████▏   | 1592/2587 [56:30<20:26,  1.23s/it]"
     ]
    },
    {
     "name": "stdout",
     "output_type": "stream",
     "text": [
      "주소를 인식할 수 없습니다: 공릉로24길\n"
     ]
    },
    {
     "name": "stderr",
     "output_type": "stream",
     "text": [
      "Geocoding 진행 상황:  62%|██████▏   | 1600/2587 [56:40<20:13,  1.23s/it]"
     ]
    },
    {
     "name": "stdout",
     "output_type": "stream",
     "text": [
      "주소를 인식할 수 없습니다: 공릉로29길\n"
     ]
    },
    {
     "name": "stderr",
     "output_type": "stream",
     "text": [
      "Geocoding 진행 상황:  62%|██████▏   | 1612/2587 [56:55<19:53,  1.22s/it]"
     ]
    },
    {
     "name": "stdout",
     "output_type": "stream",
     "text": [
      "주소를 인식할 수 없습니다: 상계로15길\n"
     ]
    },
    {
     "name": "stderr",
     "output_type": "stream",
     "text": [
      "Geocoding 진행 상황:  63%|██████▎   | 1618/2587 [57:02<20:13,  1.25s/it]"
     ]
    },
    {
     "name": "stdout",
     "output_type": "stream",
     "text": [
      "주소를 인식할 수 없습니다: 공릉로24길\n"
     ]
    },
    {
     "name": "stderr",
     "output_type": "stream",
     "text": [
      "Geocoding 진행 상황:  66%|██████▌   | 1704/2587 [58:49<17:59,  1.22s/it]"
     ]
    },
    {
     "name": "stdout",
     "output_type": "stream",
     "text": [
      "주소를 인식할 수 없습니다: 공릉로33길\n"
     ]
    },
    {
     "name": "stderr",
     "output_type": "stream",
     "text": [
      "Geocoding 진행 상황:  66%|██████▌   | 1709/2587 [58:55<17:42,  1.21s/it]"
     ]
    },
    {
     "name": "stdout",
     "output_type": "stream",
     "text": [
      "주소를 인식할 수 없습니다: 공릉로33길\n"
     ]
    },
    {
     "name": "stderr",
     "output_type": "stream",
     "text": [
      "Geocoding 진행 상황:  69%|██████▉   | 1790/2587 [1:01:25<18:33,  1.40s/it]  "
     ]
    },
    {
     "name": "stdout",
     "output_type": "stream",
     "text": [
      "주소를 인식할 수 없습니다: 상계로21길\n"
     ]
    },
    {
     "name": "stderr",
     "output_type": "stream",
     "text": [
      "Geocoding 진행 상황:  70%|██████▉   | 1802/2587 [1:01:40<16:29,  1.26s/it]"
     ]
    },
    {
     "name": "stdout",
     "output_type": "stream",
     "text": [
      "주소를 인식할 수 없습니다: 상계로21길\n"
     ]
    },
    {
     "name": "stderr",
     "output_type": "stream",
     "text": [
      "Geocoding 진행 상황:  70%|███████   | 1814/2587 [1:01:55<15:54,  1.24s/it]"
     ]
    },
    {
     "name": "stdout",
     "output_type": "stream",
     "text": [
      "주소를 인식할 수 없습니다: 공릉로24길\n"
     ]
    },
    {
     "name": "stderr",
     "output_type": "stream",
     "text": [
      "Geocoding 진행 상황:  71%|███████   | 1825/2587 [1:02:09<15:57,  1.26s/it]"
     ]
    },
    {
     "name": "stdout",
     "output_type": "stream",
     "text": [
      "주소를 인식할 수 없습니다: 상계로19길\n"
     ]
    },
    {
     "name": "stderr",
     "output_type": "stream",
     "text": [
      "Geocoding 진행 상황:  71%|███████   | 1826/2587 [1:02:10<16:09,  1.27s/it]"
     ]
    },
    {
     "name": "stdout",
     "output_type": "stream",
     "text": [
      "주소를 인식할 수 없습니다: 상계로19길\n"
     ]
    },
    {
     "name": "stderr",
     "output_type": "stream",
     "text": [
      "Geocoding 진행 상황:  71%|███████   | 1831/2587 [1:02:17<16:27,  1.31s/it]"
     ]
    },
    {
     "name": "stdout",
     "output_type": "stream",
     "text": [
      "주소를 인식할 수 없습니다: 덕릉로92길\n"
     ]
    },
    {
     "name": "stderr",
     "output_type": "stream",
     "text": [
      "Geocoding 진행 상황:  72%|███████▏  | 1866/2587 [1:03:02<14:46,  1.23s/it]"
     ]
    },
    {
     "name": "stdout",
     "output_type": "stream",
     "text": [
      "주소를 인식할 수 없습니다: 공릉로33길\n"
     ]
    },
    {
     "name": "stderr",
     "output_type": "stream",
     "text": [
      "Geocoding 진행 상황:  73%|███████▎  | 1878/2587 [1:03:17<14:18,  1.21s/it]"
     ]
    },
    {
     "name": "stdout",
     "output_type": "stream",
     "text": [
      "주소를 인식할 수 없습니다: 덕릉로92길\n"
     ]
    },
    {
     "name": "stderr",
     "output_type": "stream",
     "text": [
      "Geocoding 진행 상황:  74%|███████▍  | 1916/2587 [1:04:28<21:05,  1.89s/it]"
     ]
    },
    {
     "name": "stdout",
     "output_type": "stream",
     "text": [
      "주소를 인식할 수 없습니다: 공릉로29길\n"
     ]
    },
    {
     "name": "stderr",
     "output_type": "stream",
     "text": [
      "Geocoding 진행 상황:  75%|███████▍  | 1933/2587 [1:05:06<40:41,  3.73s/it]"
     ]
    },
    {
     "name": "stdout",
     "output_type": "stream",
     "text": [
      "주소를 인식할 수 없습니다: 공릉로20가길\n"
     ]
    },
    {
     "name": "stderr",
     "output_type": "stream",
     "text": [
      "Geocoding 진행 상황:  75%|███████▍  | 1934/2587 [1:05:10<40:29,  3.72s/it]"
     ]
    },
    {
     "name": "stdout",
     "output_type": "stream",
     "text": [
      "주소를 인식할 수 없습니다: 공릉로20가길\n"
     ]
    },
    {
     "name": "stderr",
     "output_type": "stream",
     "text": [
      "Geocoding 진행 상황:  75%|███████▌  | 1943/2587 [1:05:32<23:25,  2.18s/it]"
     ]
    },
    {
     "name": "stdout",
     "output_type": "stream",
     "text": [
      "주소를 인식할 수 없습니다: 상계로21길\n"
     ]
    },
    {
     "name": "stderr",
     "output_type": "stream",
     "text": [
      "Geocoding 진행 상황:  78%|███████▊  | 2023/2587 [1:08:04<19:02,  2.03s/it]"
     ]
    },
    {
     "name": "stdout",
     "output_type": "stream",
     "text": [
      "주소를 인식할 수 없습니다: 공릉로22길\n"
     ]
    },
    {
     "name": "stderr",
     "output_type": "stream",
     "text": [
      "Geocoding 진행 상황:  80%|███████▉  | 2059/2587 [1:09:01<12:38,  1.44s/it]"
     ]
    },
    {
     "name": "stdout",
     "output_type": "stream",
     "text": [
      "주소를 인식할 수 없습니다: 상계로15길\n"
     ]
    },
    {
     "name": "stderr",
     "output_type": "stream",
     "text": [
      "Geocoding 진행 상황:  82%|████████▏ | 2128/2587 [1:10:56<12:48,  1.68s/it]"
     ]
    },
    {
     "name": "stdout",
     "output_type": "stream",
     "text": [
      "주소를 인식할 수 없습니다: 공릉로22길\n"
     ]
    },
    {
     "name": "stderr",
     "output_type": "stream",
     "text": [
      "Geocoding 진행 상황:  83%|████████▎ | 2149/2587 [1:11:37<12:12,  1.67s/it]"
     ]
    },
    {
     "name": "stdout",
     "output_type": "stream",
     "text": [
      "주소를 인식할 수 없습니다: 상계로15길\n"
     ]
    },
    {
     "name": "stderr",
     "output_type": "stream",
     "text": [
      "Geocoding 진행 상황:  86%|████████▌ | 2216/2587 [1:14:06<10:35,  1.71s/it]  "
     ]
    },
    {
     "name": "stdout",
     "output_type": "stream",
     "text": [
      "주소를 인식할 수 없습니다: 공릉로33길\n"
     ]
    },
    {
     "name": "stderr",
     "output_type": "stream",
     "text": [
      "Geocoding 진행 상황:  86%|████████▌ | 2217/2587 [1:14:08<10:30,  1.70s/it]"
     ]
    },
    {
     "name": "stdout",
     "output_type": "stream",
     "text": [
      "주소를 인식할 수 없습니다: 공릉로33길\n"
     ]
    },
    {
     "name": "stderr",
     "output_type": "stream",
     "text": [
      "Geocoding 진행 상황:  86%|████████▋ | 2235/2587 [1:14:38<09:46,  1.67s/it]"
     ]
    },
    {
     "name": "stdout",
     "output_type": "stream",
     "text": [
      "주소를 인식할 수 없습니다: 덕릉로109나길\n"
     ]
    },
    {
     "name": "stderr",
     "output_type": "stream",
     "text": [
      "Geocoding 진행 상황:  88%|████████▊ | 2285/2587 [1:16:03<08:26,  1.68s/it]"
     ]
    },
    {
     "name": "stdout",
     "output_type": "stream",
     "text": [
      "주소를 인식할 수 없습니다: 상계로19길\n"
     ]
    },
    {
     "name": "stderr",
     "output_type": "stream",
     "text": [
      "Geocoding 진행 상황:  89%|████████▉ | 2307/2587 [1:16:44<08:40,  1.86s/it]"
     ]
    },
    {
     "name": "stdout",
     "output_type": "stream",
     "text": [
      "주소를 인식할 수 없습니다: 공릉로35길\n"
     ]
    },
    {
     "name": "stderr",
     "output_type": "stream",
     "text": [
      "Geocoding 진행 상황:  91%|█████████ | 2358/2587 [1:18:15<06:38,  1.74s/it]"
     ]
    },
    {
     "name": "stdout",
     "output_type": "stream",
     "text": [
      "주소를 인식할 수 없습니다: 상계로15길\n"
     ]
    },
    {
     "name": "stderr",
     "output_type": "stream",
     "text": [
      "Geocoding 진행 상황:  92%|█████████▏| 2390/2587 [1:19:12<07:15,  2.21s/it]"
     ]
    },
    {
     "name": "stdout",
     "output_type": "stream",
     "text": [
      "주소를 인식할 수 없습니다: 공릉로35길\n"
     ]
    },
    {
     "name": "stderr",
     "output_type": "stream",
     "text": [
      "Geocoding 진행 상황:  94%|█████████▎| 2421/2587 [1:20:06<04:39,  1.68s/it]"
     ]
    },
    {
     "name": "stdout",
     "output_type": "stream",
     "text": [
      "주소를 인식할 수 없습니다: 덕릉로92길\n"
     ]
    },
    {
     "name": "stderr",
     "output_type": "stream",
     "text": [
      "Geocoding 진행 상황:  94%|█████████▎| 2423/2587 [1:20:09<04:37,  1.69s/it]"
     ]
    },
    {
     "name": "stdout",
     "output_type": "stream",
     "text": [
      "주소를 인식할 수 없습니다: 덕릉로92길\n"
     ]
    },
    {
     "name": "stderr",
     "output_type": "stream",
     "text": [
      "Geocoding 진행 상황:  94%|█████████▍| 2436/2587 [1:20:38<05:12,  2.07s/it]"
     ]
    },
    {
     "name": "stdout",
     "output_type": "stream",
     "text": [
      "주소를 인식할 수 없습니다: 상계로13길\n"
     ]
    },
    {
     "name": "stderr",
     "output_type": "stream",
     "text": [
      "Geocoding 진행 상황:  96%|█████████▋| 2496/2587 [1:22:22<02:21,  1.55s/it]"
     ]
    },
    {
     "name": "stdout",
     "output_type": "stream",
     "text": [
      "주소를 인식할 수 없습니다: 공릉로29길\n"
     ]
    },
    {
     "name": "stderr",
     "output_type": "stream",
     "text": [
      "Geocoding 진행 상황:  99%|█████████▉| 2559/2587 [1:24:12<00:47,  1.70s/it]"
     ]
    },
    {
     "name": "stdout",
     "output_type": "stream",
     "text": [
      "주소를 인식할 수 없습니다: 공릉로35길\n"
     ]
    },
    {
     "name": "stderr",
     "output_type": "stream",
     "text": [
      "Geocoding 진행 상황: 100%|█████████▉| 2578/2587 [1:24:45<00:14,  1.64s/it]"
     ]
    },
    {
     "name": "stdout",
     "output_type": "stream",
     "text": [
      "주소를 인식할 수 없습니다: 덕릉로87길\n"
     ]
    },
    {
     "name": "stderr",
     "output_type": "stream",
     "text": [
      "Geocoding 진행 상황: 100%|██████████| 2587/2587 [1:25:00<00:00,  1.97s/it]"
     ]
    },
    {
     "name": "stdout",
     "output_type": "stream",
     "text": [
      "   NO            시군구   번지   도로조건  계약면적(㎡) 전월세구분    계약년월  계약일  보증금(만원)  \\\n",
      "0   1  서울특별시 노원구 공릉동  5**   8m미만    21.23    전세  202212   31    16000   \n",
      "1   2  서울특별시 노원구 공릉동  3**   8m미만    12.10    전세  202212   31     8500   \n",
      "2   3  서울특별시 노원구 공릉동  3**   8m미만    16.52    전세  202212   31     8000   \n",
      "3   4  서울특별시 노원구 공릉동  6**   8m미만    19.00    전세  202212   31     8500   \n",
      "4   5  서울특별시 노원구 공릉동  5**  12m미만    29.10    전세  202212   31     9000   \n",
      "\n",
      "   월세금(만원)    건축년도      도로명           계약기간 계약구분 갱신요구권 사용 종전계약 보증금(만원)  \\\n",
      "0        0  2016.0  동일로182길  202302~202502   신규        -          NaN   \n",
      "1        0  2017.0  동일로190길  202301~202401   신규        -          NaN   \n",
      "2        0  2017.0  동일로190길  202212~202401   신규        -          NaN   \n",
      "3        0  2014.0   공릉로22길  202302~202502   신규        -          NaN   \n",
      "4        0  1992.0  동일로178길  202212~202412   신규        -          NaN   \n",
      "\n",
      "   종전계약 월세(만원)   주택유형         위도          경도  \n",
      "0          NaN  단독다가구  37.623852  127.076065  \n",
      "1          NaN  단독다가구  37.626693  127.075728  \n",
      "2          NaN  단독다가구  37.626693  127.075728  \n",
      "3          NaN  단독다가구        NaN         NaN  \n",
      "4          NaN  단독다가구  37.621870  127.075646  \n",
      "Geocoding 완료 및 CSV 파일 저장 완료!\n"
     ]
    },
    {
     "name": "stderr",
     "output_type": "stream",
     "text": [
      "\n"
     ]
    }
   ],
   "source": [
    "import pandas as pd\n",
    "from tqdm import tqdm\n",
    "from geopy.geocoders import Nominatim\n",
    "import numpy as np\n",
    "\n",
    "# Geocoding 함수\n",
    "def geocoding(address):\n",
    "    geolocoder = Nominatim(user_agent='South Korea', timeout=None)  # 사용자 에이전트 설정\n",
    "    geo = geolocoder.geocode(address)  # 주소로 위치정보 가져오기 (위도와 경도 반환)\n",
    "    \n",
    "    if geo is None:  # 주소를 인식하지 못할 때\n",
    "        print(f'주소를 인식할 수 없습니다: {address}')\n",
    "        except_addr.append(address)\n",
    "        return np.nan, np.nan  # 위도와 경도를 NaN으로 반환\n",
    "    else:\n",
    "        return geo.latitude, geo.longitude  # 위도, 경도 반환\n",
    "\n",
    "# 결과를 저장할 리스트\n",
    "unique_lat = []\n",
    "unique_lng = []\n",
    "except_addr = []\n",
    "\n",
    "# tqdm을 사용하여 진행 상황을 시각적으로 확인\n",
    "for addr in tqdm(map_addr, desc=\"Geocoding 진행 상황\"):\n",
    "    lat, lng = geocoding(addr)\n",
    "    unique_lat.append(lat)\n",
    "    unique_lng.append(lng)\n",
    "\n",
    "# 50개만 저장할 데이터프레임을 새로 생성\n",
    "data_for_youth_50 = data_for_youth.copy()\n",
    "\n",
    "\n",
    "# 위도와 경도를 새로운 열로 추가\n",
    "data_for_youth_50['위도'] = unique_lat\n",
    "data_for_youth_50['경도'] = unique_lng\n",
    "\n",
    "# NaN 값이 추가된 데이터프레임을 확인\n",
    "print(data_for_youth_50.head())\n",
    "\n",
    "# 수정된 데이터프레임을 CSV로 저장\n",
    "data_for_youth_50.to_csv('modified_data_with_lat_lng_50.csv', index=False, encoding='utf-8-sig')\n",
    "\n",
    "print(\"Geocoding 완료 및 CSV 파일 저장 완료!\")"
   ]
  },
  {
   "cell_type": "code",
   "execution_count": 18,
   "metadata": {},
   "outputs": [
    {
     "name": "stdout",
     "output_type": "stream",
     "text": [
      "<class 'pandas.core.frame.DataFrame'>\n",
      "RangeIndex: 2587 entries, 0 to 2586\n",
      "Data columns (total 20 columns):\n",
      " #   Column        Non-Null Count  Dtype  \n",
      "---  ------        --------------  -----  \n",
      " 0   NO            2587 non-null   int64  \n",
      " 1   시군구           2587 non-null   object \n",
      " 2   번지            2587 non-null   object \n",
      " 3   도로조건          2587 non-null   object \n",
      " 4   계약면적(㎡)       2587 non-null   float64\n",
      " 5   전월세구분         2587 non-null   object \n",
      " 6   계약년월          2587 non-null   int64  \n",
      " 7   계약일           2587 non-null   int64  \n",
      " 8   보증금(만원)       2587 non-null   int64  \n",
      " 9   월세금(만원)       2587 non-null   int64  \n",
      " 10  건축년도          2485 non-null   float64\n",
      " 11  도로명           2587 non-null   object \n",
      " 12  계약기간          2587 non-null   object \n",
      " 13  계약구분          2587 non-null   object \n",
      " 14  갱신요구권 사용      2587 non-null   object \n",
      " 15  종전계약 보증금(만원)  169 non-null    object \n",
      " 16  종전계약 월세(만원)   169 non-null    float64\n",
      " 17  주택유형          2587 non-null   object \n",
      " 18  위도            2486 non-null   float64\n",
      " 19  경도            2486 non-null   float64\n",
      "dtypes: float64(5), int64(5), object(10)\n",
      "memory usage: 404.3+ KB\n"
     ]
    }
   ],
   "source": [
    "data_for_youth_50.info()"
   ]
  },
  {
   "cell_type": "code",
   "execution_count": 19,
   "metadata": {},
   "outputs": [],
   "source": [
    "data_for_youth_final = data_for_youth_50.dropna(subset='위도')"
   ]
  },
  {
   "cell_type": "code",
   "execution_count": 20,
   "metadata": {},
   "outputs": [
    {
     "name": "stdout",
     "output_type": "stream",
     "text": [
      "<class 'pandas.core.frame.DataFrame'>\n",
      "Index: 2486 entries, 0 to 2586\n",
      "Data columns (total 20 columns):\n",
      " #   Column        Non-Null Count  Dtype  \n",
      "---  ------        --------------  -----  \n",
      " 0   NO            2486 non-null   int64  \n",
      " 1   시군구           2486 non-null   object \n",
      " 2   번지            2486 non-null   object \n",
      " 3   도로조건          2486 non-null   object \n",
      " 4   계약면적(㎡)       2486 non-null   float64\n",
      " 5   전월세구분         2486 non-null   object \n",
      " 6   계약년월          2486 non-null   int64  \n",
      " 7   계약일           2486 non-null   int64  \n",
      " 8   보증금(만원)       2486 non-null   int64  \n",
      " 9   월세금(만원)       2486 non-null   int64  \n",
      " 10  건축년도          2386 non-null   float64\n",
      " 11  도로명           2486 non-null   object \n",
      " 12  계약기간          2486 non-null   object \n",
      " 13  계약구분          2486 non-null   object \n",
      " 14  갱신요구권 사용      2486 non-null   object \n",
      " 15  종전계약 보증금(만원)  164 non-null    object \n",
      " 16  종전계약 월세(만원)   164 non-null    float64\n",
      " 17  주택유형          2486 non-null   object \n",
      " 18  위도            2486 non-null   float64\n",
      " 19  경도            2486 non-null   float64\n",
      "dtypes: float64(5), int64(5), object(10)\n",
      "memory usage: 407.9+ KB\n"
     ]
    }
   ],
   "source": [
    "data_for_youth_final.info()"
   ]
  },
  {
   "cell_type": "code",
   "execution_count": 21,
   "metadata": {},
   "outputs": [
    {
     "name": "stdout",
     "output_type": "stream",
     "text": [
      "35.2134142 37.6786475 126.8440568 129.214774\n"
     ]
    }
   ],
   "source": [
    "# gpt가 준 노원구의 대략적인 위도/경도의 최소최댓값이 정확하지 않아서 매물들의 위도/경도값으로 직접 범위를 구하자!\n",
    "min_lat_value = data_for_youth_final['위도'].min()\n",
    "max_lat_value = data_for_youth_final['위도'].max()\n",
    "min_lng_value = data_for_youth_final['경도'].min()\n",
    "max_lng_value = data_for_youth_final['경도'].max()\n",
    "\n",
    "print(min_lat_value, max_lat_value, min_lng_value, max_lng_value)"
   ]
  },
  {
   "cell_type": "code",
   "execution_count": 22,
   "metadata": {},
   "outputs": [
    {
     "name": "stdout",
     "output_type": "stream",
     "text": [
      "          위도          경도  구역\n",
      "0  37.623852  127.076065   1\n",
      "1  37.626693  127.075728   1\n",
      "2  37.626693  127.075728   1\n",
      "4  37.621870  127.075646   1\n",
      "5  37.639390  127.069326   3\n",
      "CSV 파일이 저장되었습니다: data_with_10_zones.csv\n"
     ]
    },
    {
     "name": "stderr",
     "output_type": "stream",
     "text": [
      "C:\\Users\\user\\AppData\\Local\\Temp\\ipykernel_17420\\3584338447.py:29: SettingWithCopyWarning: \n",
      "A value is trying to be set on a copy of a slice from a DataFrame.\n",
      "Try using .loc[row_indexer,col_indexer] = value instead\n",
      "\n",
      "See the caveats in the documentation: https://pandas.pydata.org/pandas-docs/stable/user_guide/indexing.html#returning-a-view-versus-a-copy\n",
      "  data_for_youth_final['구역'] = data_for_youth_final.apply(lambda row: categorize_location(row['위도'], row['경도']), axis=1)\n"
     ]
    }
   ],
   "source": [
    "import numpy as np\n",
    "import pandas as pd\n",
    "\n",
    "# 노원구의 대략적인 위도/경도 범위\n",
    "lat_min, lat_max = 37.617, 37.705\n",
    "lng_min, lng_max = 127.050, 127.106\n",
    "\n",
    "# 위도/경도를 10개의 구역으로 나누기 위한 등분 설정\n",
    "lat_intervals = np.linspace(lat_min, lat_max, 6)  # 위도를 5개 구간으로 나눔\n",
    "lng_intervals = np.linspace(lng_min, lng_max, 3)  # 경도를 2개 구간으로 나눔\n",
    "\n",
    "# 총 5 x 2 = 10개의 구역을 생성할 수 있음\n",
    "\n",
    "# 구역을 정의하는 함수 (1부터 10까지의 정수 반환)\n",
    "def categorize_location(lat, lng):\n",
    "    if pd.isna(lat) or pd.isna(lng):\n",
    "        return np.nan  # 위도나 경도가 NaN인 경우 'Unknown' 대신 NaN 리턴\n",
    "\n",
    "    # 위도와 경도 범위에 맞는 인덱스를 찾음\n",
    "    lat_idx = np.digitize(lat, lat_intervals) - 1  # 위도 구간 인덱스 (-1은 0-based 인덱스)\n",
    "    lng_idx = np.digitize(lng, lng_intervals) - 1  # 경도 구간 인덱스\n",
    "    \n",
    "    # 2차원 배열의 인덱스를 1부터 10까지의 숫자로 변환 (5개의 위도 구간 * 2개의 경도 구간)\n",
    "    zone_number = lat_idx * 2 + lng_idx + 1  # 정수로 구역 반환 (1부터 시작)\n",
    "    \n",
    "    return zone_number\n",
    "\n",
    "# 위도와 경도 데이터가 있는 데이터프레임에 구역 추가\n",
    "data_for_youth_final['구역'] = data_for_youth_final.apply(lambda row: categorize_location(row['위도'], row['경도']), axis=1)\n",
    "\n",
    "# 결과 확인\n",
    "print(data_for_youth_final[['위도', '경도', '구역']].head())\n",
    "\n",
    "# 결과를 CSV 파일로 저장\n",
    "data_for_youth_final.to_csv('data_with_10_zones.csv', index=False, encoding='utf-8-sig')\n",
    "\n",
    "print(\"CSV 파일이 저장되었습니다: data_with_10_zones.csv\")"
   ]
  },
  {
   "cell_type": "code",
   "execution_count": 23,
   "metadata": {},
   "outputs": [
    {
     "name": "stdout",
     "output_type": "stream",
     "text": [
      "지도가 저장되었습니다: map_with_zones_colored.html\n"
     ]
    }
   ],
   "source": [
    "import folium\n",
    "import pandas as pd\n",
    "import numpy as np\n",
    "\n",
    "# 노원구 중심부 대략적인 좌표\n",
    "center_lat, center_lng = 37.665, 127.078  \n",
    "\n",
    "# 지도 초기화\n",
    "mymap = folium.Map(location=[center_lat, center_lng], zoom_start=13)\n",
    "\n",
    "# Zone별 색상 지정\n",
    "zone_colors = {\n",
    "    1: 'red',\n",
    "    2: 'blue',\n",
    "    3: 'green',\n",
    "    4: 'purple',\n",
    "    5: 'orange',\n",
    "    6: 'pink'\n",
    "}\n",
    "\n",
    "# 각 구역별로 전세가격의 평균을 계산\n",
    "zone_avg_prices = data_for_youth_final.groupby('구역')['보증금(만원)'].mean().to_dict()\n",
    "\n",
    "# 각 구역을 지도에 CircleMarker로 표시\n",
    "for idx, row in data_for_youth_final.iterrows():\n",
    "    lat = row['위도']\n",
    "    lng = row['경도']\n",
    "    zone = row['구역']\n",
    "    price = row['보증금(만원)'] # 개별 매물의 전세가\n",
    "    size = row['계약면적(㎡)']  # 개별 매물의 면적\n",
    "    \n",
    "    # 구역의 평균 전세가격 가져오기\n",
    "    avg_price = zone_avg_prices.get(zone, 'N/A')  # 구역별 평균 가격이 없는 경우 'N/A'\n",
    "    \n",
    "    # 위도와 경도가 NaN이 아닌 경우에만 처리\n",
    "    if pd.notna(lat) and pd.notna(lng):\n",
    "        # 구역에 따라 색상 지정, 없으면 기본 색상 사용\n",
    "        color = zone_colors.get(zone, 'gray')  # 구역에 맞는 색상이 없으면 기본 색상 'gray'\n",
    "        \n",
    "        # 팝업에 평균 전세가격과 개별 매물의 전세가격을 표시\n",
    "        popup_text = f\"Zone: {zone}<br>Average Price: {avg_price}만원<br> Price: {price}만원<br> 크기: {size}제곱미터\"\n",
    "        \n",
    "        # CircleMarker로 구역 표시\n",
    "        folium.CircleMarker(\n",
    "            location=[lat, lng],\n",
    "            radius=5,  # 마커 크기\n",
    "            color=color,  # 마커 색상\n",
    "            fill=True,\n",
    "            fill_color=color,  # 채우기 색상\n",
    "            fill_opacity=0.6,\n",
    "            popup=popup_text\n",
    "        ).add_to(mymap)\n",
    "\n",
    "# 지도 저장\n",
    "mymap.save(\"map_with_zones_colored.html\")\n",
    "\n",
    "print(\"지도가 저장되었습니다: map_with_zones_colored.html\")"
   ]
  },
  {
   "cell_type": "code",
   "execution_count": 92,
   "metadata": {},
   "outputs": [
    {
     "data": {
      "text/html": [
       "<div>\n",
       "<style scoped>\n",
       "    .dataframe tbody tr th:only-of-type {\n",
       "        vertical-align: middle;\n",
       "    }\n",
       "\n",
       "    .dataframe tbody tr th {\n",
       "        vertical-align: top;\n",
       "    }\n",
       "\n",
       "    .dataframe thead th {\n",
       "        text-align: right;\n",
       "    }\n",
       "</style>\n",
       "<table border=\"1\" class=\"dataframe\">\n",
       "  <thead>\n",
       "    <tr style=\"text-align: right;\">\n",
       "      <th></th>\n",
       "      <th>SIG_CD</th>\n",
       "      <th>SIG_ENG_NM</th>\n",
       "      <th>SIG_KOR_NM</th>\n",
       "      <th>geometry</th>\n",
       "    </tr>\n",
       "  </thead>\n",
       "  <tbody>\n",
       "    <tr>\n",
       "      <th>0</th>\n",
       "      <td>11110</td>\n",
       "      <td>Jongno-gu</td>\n",
       "      <td>Á¾·Î±¸</td>\n",
       "      <td>POLYGON ((956615.453 1953567.199, 956621.579 1...</td>\n",
       "    </tr>\n",
       "    <tr>\n",
       "      <th>1</th>\n",
       "      <td>11140</td>\n",
       "      <td>Jung-gu</td>\n",
       "      <td>Áß±¸</td>\n",
       "      <td>POLYGON ((957890.386 1952616.746, 957909.908 1...</td>\n",
       "    </tr>\n",
       "    <tr>\n",
       "      <th>2</th>\n",
       "      <td>11170</td>\n",
       "      <td>Yongsan-gu</td>\n",
       "      <td>¿ë»ê±¸</td>\n",
       "      <td>POLYGON ((953115.761 1950834.084, 953114.206 1...</td>\n",
       "    </tr>\n",
       "    <tr>\n",
       "      <th>3</th>\n",
       "      <td>11200</td>\n",
       "      <td>Seongdong-gu</td>\n",
       "      <td>¼ºµ¿±¸</td>\n",
       "      <td>POLYGON ((959681.109 1952649.605, 959842.412 1...</td>\n",
       "    </tr>\n",
       "    <tr>\n",
       "      <th>4</th>\n",
       "      <td>11215</td>\n",
       "      <td>Gwangjin-gu</td>\n",
       "      <td>±¤Áø±¸</td>\n",
       "      <td>POLYGON ((964825.058 1952633.25, 964875.565 19...</td>\n",
       "    </tr>\n",
       "    <tr>\n",
       "      <th>...</th>\n",
       "      <td>...</td>\n",
       "      <td>...</td>\n",
       "      <td>...</td>\n",
       "      <td>...</td>\n",
       "    </tr>\n",
       "    <tr>\n",
       "      <th>245</th>\n",
       "      <td>51790</td>\n",
       "      <td>Hwacheon-gun</td>\n",
       "      <td>È­Ãµ±º</td>\n",
       "      <td>POLYGON ((1027779.614 2032000.017, 1027951.841...</td>\n",
       "    </tr>\n",
       "    <tr>\n",
       "      <th>246</th>\n",
       "      <td>51800</td>\n",
       "      <td>Yanggu-gun</td>\n",
       "      <td>¾ç±¸±º</td>\n",
       "      <td>MULTIPOLYGON (((1046391.747 2032451.649, 10463...</td>\n",
       "    </tr>\n",
       "    <tr>\n",
       "      <th>247</th>\n",
       "      <td>51810</td>\n",
       "      <td>Inje-gun</td>\n",
       "      <td>ÀÎÁ¦±º</td>\n",
       "      <td>POLYGON ((1041948.853 1995343.843, 1042054.076...</td>\n",
       "    </tr>\n",
       "    <tr>\n",
       "      <th>248</th>\n",
       "      <td>51820</td>\n",
       "      <td>Goseong-gun</td>\n",
       "      <td>°í¼º±º</td>\n",
       "      <td>MULTIPOLYGON (((1091705.056 2034023.203, 10917...</td>\n",
       "    </tr>\n",
       "    <tr>\n",
       "      <th>249</th>\n",
       "      <td>51830</td>\n",
       "      <td>Yangyang-gun</td>\n",
       "      <td>¾ç¾ç±º</td>\n",
       "      <td>MULTIPOLYGON (((1102146.292 2010704.587, 11021...</td>\n",
       "    </tr>\n",
       "  </tbody>\n",
       "</table>\n",
       "<p>250 rows × 4 columns</p>\n",
       "</div>"
      ],
      "text/plain": [
       "    SIG_CD    SIG_ENG_NM SIG_KOR_NM  \\\n",
       "0    11110     Jongno-gu     Á¾·Î±¸   \n",
       "1    11140       Jung-gu       Áß±¸   \n",
       "2    11170    Yongsan-gu     ¿ë»ê±¸   \n",
       "3    11200  Seongdong-gu     ¼ºµ¿±¸   \n",
       "4    11215   Gwangjin-gu     ±¤Áø±¸   \n",
       "..     ...           ...        ...   \n",
       "245  51790  Hwacheon-gun     È­Ãµ±º   \n",
       "246  51800    Yanggu-gun     ¾ç±¸±º   \n",
       "247  51810      Inje-gun     ÀÎÁ¦±º   \n",
       "248  51820   Goseong-gun     °í¼º±º   \n",
       "249  51830  Yangyang-gun     ¾ç¾ç±º   \n",
       "\n",
       "                                              geometry  \n",
       "0    POLYGON ((956615.453 1953567.199, 956621.579 1...  \n",
       "1    POLYGON ((957890.386 1952616.746, 957909.908 1...  \n",
       "2    POLYGON ((953115.761 1950834.084, 953114.206 1...  \n",
       "3    POLYGON ((959681.109 1952649.605, 959842.412 1...  \n",
       "4    POLYGON ((964825.058 1952633.25, 964875.565 19...  \n",
       "..                                                 ...  \n",
       "245  POLYGON ((1027779.614 2032000.017, 1027951.841...  \n",
       "246  MULTIPOLYGON (((1046391.747 2032451.649, 10463...  \n",
       "247  POLYGON ((1041948.853 1995343.843, 1042054.076...  \n",
       "248  MULTIPOLYGON (((1091705.056 2034023.203, 10917...  \n",
       "249  MULTIPOLYGON (((1102146.292 2010704.587, 11021...  \n",
       "\n",
       "[250 rows x 4 columns]"
      ]
     },
     "execution_count": 92,
     "metadata": {},
     "output_type": "execute_result"
    }
   ],
   "source": [
    "import geopandas as gpd\n",
    "import matplotlib.pyplot as plt\n",
    "\n",
    "plt.rcParams[\"font.family\"] = 'NanumGothic'  # 한글폰트\n",
    "plt.rcParams[\"figure.figsize\"] = (10,10)\n",
    "\n",
    "# 파일읽기(read file)\n",
    "seoul_file = \"sig.shp\"\n",
    "seoul = gpd.read_file(seoul_file)\n",
    "seoul"
   ]
  },
  {
   "cell_type": "code",
   "execution_count": null,
   "metadata": {},
   "outputs": [],
   "source": []
  }
 ],
 "metadata": {
  "kernelspec": {
   "display_name": "PythonEx",
   "language": "python",
   "name": "python3"
  },
  "language_info": {
   "codemirror_mode": {
    "name": "ipython",
    "version": 3
   },
   "file_extension": ".py",
   "mimetype": "text/x-python",
   "name": "python",
   "nbconvert_exporter": "python",
   "pygments_lexer": "ipython3",
   "version": "3.10.14"
  }
 },
 "nbformat": 4,
 "nbformat_minor": 2
}
